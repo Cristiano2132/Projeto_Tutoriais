{
 "cells": [
  {
   "cell_type": "markdown",
   "metadata": {
    "_uuid": "625c587f57522c988f35e92b515b8d8ef1f323d6"
   },
   "source": [
    "# Introdução a programação em Python\n"
   ]
  },
  {
   "cell_type": "markdown",
   "metadata": {},
   "source": [
    "# Parte I\n",
    "\n",
    "0. Orientação - Como executar código neste notebook\n",
    "1. Valores de impressão\n",
    "2. Usando comentários\n",
    "3. Variáveis, atribuição e redesignação\n",
    "4. Tipos de dados básicos\n",
    "5. Operações matemáticas em Python\n",
    "6. Operações lógicas em Python\n",
    "7. Operadores de comparação"
   ]
  },
  {
   "cell_type": "markdown",
   "metadata": {},
   "source": [
    "### 0. Orientação ¶\n",
    "- Os Jupyter Notebooks, são uma maneira de executar o código de forma interativa no seu navegador.\n",
    "- Notebooks são feitos de células\n",
    "- Cada célula contém código ou texto.\n",
    "- As células de código executam o código, as células de texto processam o texto\n",
    "- Para executar uma célula, clique na célula e clique no botão 'Run' ou faça \"shift + Enter\" no teclado."
   ]
  },
  {
   "cell_type": "markdown",
   "metadata": {},
   "source": [
    "### 1. Imprimindo com a função `print()` "
   ]
  },
  {
   "cell_type": "code",
   "execution_count": 1,
   "metadata": {},
   "outputs": [
    {
     "name": "stdout",
     "output_type": "stream",
     "text": [
      "Olá Mundo !!!\n"
     ]
    }
   ],
   "source": [
    "print(\"Olá Mundo !!!\")\n"
   ]
  },
  {
   "cell_type": "code",
   "execution_count": 2,
   "metadata": {},
   "outputs": [
    {
     "name": "stdout",
     "output_type": "stream",
     "text": [
      "Today is a great day to learn\n"
     ]
    }
   ],
   "source": [
    "texto = \"Today is a great day to learn\"\n",
    "print(texto)"
   ]
  },
  {
   "cell_type": "code",
   "execution_count": 3,
   "metadata": {},
   "outputs": [
    {
     "name": "stdout",
     "output_type": "stream",
     "text": [
      "Use o comando print\n",
      "Para imprimir\n",
      "Imprime cada linha\n"
     ]
    }
   ],
   "source": [
    "print ( \"Use o comando print\" ) \n",
    "print ( \"Para imprimir\" ) \n",
    "print ( \"Imprime cada linha\" )"
   ]
  },
  {
   "cell_type": "code",
   "execution_count": 4,
   "metadata": {},
   "outputs": [
    {
     "data": {
      "text/plain": [
       "'As células do notebook imprimem automaticamente a última linha do código'"
      ]
     },
     "execution_count": 4,
     "metadata": {},
     "output_type": "execute_result"
    }
   ],
   "source": [
    "\"As células do notebook imprimem automaticamente a última linha do código\""
   ]
  },
  {
   "cell_type": "code",
   "execution_count": 5,
   "metadata": {},
   "outputs": [
    {
     "data": {
      "text/plain": [
       "'apenas a última linha'"
      ]
     },
     "execution_count": 5,
     "metadata": {},
     "output_type": "execute_result"
    }
   ],
   "source": [
    "\"Múltiplas linhas\" \n",
    "\"não são impressas automaticamente\" \n",
    "\"apenas a última linha\""
   ]
  },
  {
   "cell_type": "code",
   "execution_count": 6,
   "metadata": {},
   "outputs": [
    {
     "name": "stdout",
     "output_type": "stream",
     "text": [
      "O comando print é importante.\n",
      "Quando queremos imprimir cada linha\n"
     ]
    }
   ],
   "source": [
    "print ( \"O comando print é importante.\" ) \n",
    "print ( \"Quando queremos imprimir cada linha\" )"
   ]
  },
  {
   "cell_type": "markdown",
   "metadata": {},
   "source": [
    "### 2.  Comentários são como notamos nosso código com texto descritivo \n",
    "\n",
    "- Comentários em Python são criados pelo símbolo de hashtag.\n",
    "- A hashtag \"comenta\" tudo à direita da hashtag.\n",
    "- Existem comentários no código, mas não são executados.\n",
    "- Comentar seu código é uma prática recomendada.\n",
    "- Uma hashtag no início de uma linha a tornará um comentário."
   ]
  },
  {
   "cell_type": "code",
   "execution_count": 8,
   "metadata": {},
   "outputs": [],
   "source": [
    "#Este é um comentário. Execute esta célula. Você vê alguma coisa? Por que ?"
   ]
  },
  {
   "cell_type": "code",
   "execution_count": 9,
   "metadata": {},
   "outputs": [],
   "source": [
    "# Primeiro, execute esta célula. \n",
    "# Em seguida, exclua a hashtag no início da última linha. \n",
    "# Por último, execute a célula novamente. \n",
    "# print (\"Este é um comando de impressão 'comentado'\")"
   ]
  },
  {
   "cell_type": "markdown",
   "metadata": {},
   "source": [
    "### 3. Variáveis apontam para valores e lhes dão um nome \n",
    "\n",
    "- \"Atribuindo uma variável\" significa vincular valor a uma variável\n",
    "- Variáveis nos permitem nomear valores"
   ]
  },
  {
   "cell_type": "code",
   "execution_count": 13,
   "metadata": {},
   "outputs": [
    {
     "data": {
      "text/plain": [
       "'Cruzeiro é o maior de  minas'"
      ]
     },
     "execution_count": 13,
     "metadata": {},
     "output_type": "execute_result"
    }
   ],
   "source": [
    "# Variáveis mantêm valores que usamos posteriormente no programa pelo nome. \n",
    "m = \"Olá pessoal!\"\n",
    "m=\"Cruzeiro é o maior de  minas\"\n",
    "m\n"
   ]
  },
  {
   "cell_type": "code",
   "execution_count": null,
   "metadata": {},
   "outputs": [],
   "source": [
    "maiordeminas = \"Cruzeiro\" \n",
    "print ( \"O maior time de Minas é o \" ,  maiordeminas)"
   ]
  },
  {
   "cell_type": "code",
   "execution_count": 15,
   "metadata": {},
   "outputs": [
    {
     "name": "stdout",
     "output_type": "stream",
     "text": [
      "O maior time de Minas é o Cruzeiro. Chupa Galo!!!\n"
     ]
    }
   ],
   "source": [
    "maiordeminas = \"Cruzeiro\"\n",
    "frango = \"Galo\"\n",
    "print ( \"O maior time de Minas é o {}. Chupa {}!!!\".format(maiordeminas,frango))"
   ]
  },
  {
   "cell_type": "markdown",
   "metadata": {},
   "source": [
    "### 4. Tipos de Dados \n",
    "\n",
    "Cada parte dos dados tem duas características fundamentais:\n",
    "- O valor dos dados em si.\n",
    "- Todo valor tem um tipo de dado que explica que tipo de dado é esse valor.\n",
    "- Por exemplo, o número inteiro 2 tem o valor 2 e o tipo de dados é número inteiro.\n",
    "- Alguns tipos de dados:\n",
    "    - None\n",
    "    - Boolean\n",
    "    - Integer\n",
    "    - Float\n",
    "    - String"
   ]
  },
  {
   "cell_type": "code",
   "execution_count": 18,
   "metadata": {},
   "outputs": [
    {
     "data": {
      "text/plain": [
       "NoneType"
      ]
     },
     "execution_count": 18,
     "metadata": {},
     "output_type": "execute_result"
    }
   ],
   "source": [
    "# O tipo de dados \"None\" representa a ausência de um valor.\n",
    "type(None) \n",
    "a=None\n",
    "type(a)"
   ]
  },
  {
   "cell_type": "code",
   "execution_count": 19,
   "metadata": {},
   "outputs": [
    {
     "data": {
      "text/plain": [
       "int"
      ]
     },
     "execution_count": 19,
     "metadata": {},
     "output_type": "execute_result"
    }
   ],
   "source": [
    "# Números sem decimal são inteiros. Os números inteiros podem ser negativos ou positivos. \n",
    "type(-99)"
   ]
  },
  {
   "cell_type": "code",
   "execution_count": 21,
   "metadata": {},
   "outputs": [
    {
     "data": {
      "text/plain": [
       "float"
      ]
     },
     "execution_count": 21,
     "metadata": {},
     "output_type": "execute_result"
    }
   ],
   "source": [
    "type(2.3)"
   ]
  },
  {
   "cell_type": "code",
   "execution_count": 25,
   "metadata": {},
   "outputs": [
    {
     "data": {
      "text/plain": [
       "str"
      ]
     },
     "execution_count": 25,
     "metadata": {},
     "output_type": "execute_result"
    }
   ],
   "source": [
    "type(\"Genética\")"
   ]
  },
  {
   "cell_type": "code",
   "execution_count": 26,
   "metadata": {},
   "outputs": [
    {
     "data": {
      "text/plain": [
       "bool"
      ]
     },
     "execution_count": 26,
     "metadata": {},
     "output_type": "execute_result"
    }
   ],
   "source": [
    "# True e False são os únicos dois valores booleanos. \n",
    "type(True)"
   ]
  },
  {
   "cell_type": "markdown",
   "metadata": {},
   "source": [
    "### 5. Operações matemáticas em Python \n",
    "\n",
    "A ordem das operações no Python segue a hierarquia:\n",
    "\n",
    "- Parênteses\n",
    "- Expoentes\n",
    "- Multiplicação\n",
    "- Divisão\n",
    "- Adição\n",
    "- Subtração"
   ]
  },
  {
   "cell_type": "markdown",
   "metadata": {},
   "source": [
    "###  Operadores matemáticos em Python \n",
    "\n",
    "\n",
    "- `+` Adição\n",
    "- `-` Subtração\n",
    "- `*` Multiplicação\n",
    "- `/` Divisão\n",
    "- `%` fornece o restante da divisão do primeiro número pelo segundo. (chamado operador de módulo)\n",
    "- `**` é o operador de exponenciação.Por exemplo 2 elevado à 3ª potência é `2**3`"
   ]
  },
  {
   "cell_type": "code",
   "execution_count": 27,
   "metadata": {},
   "outputs": [
    {
     "data": {
      "text/plain": [
       "'OláMundo'"
      ]
     },
     "execution_count": 27,
     "metadata": {},
     "output_type": "execute_result"
    }
   ],
   "source": [
    "\"Olá\" + \"Mundo\""
   ]
  },
  {
   "cell_type": "markdown",
   "metadata": {},
   "source": [
    "### 6. Operações Lógicas em Python \n",
    "\n",
    "As operações lógicas mais comuns são:\n",
    "\n",
    "    - And\n",
    "    - Or\n",
    "    - Not"
   ]
  },
  {
   "cell_type": "code",
   "execution_count": 28,
   "metadata": {},
   "outputs": [
    {
     "data": {
      "text/plain": [
       "True"
      ]
     },
     "execution_count": 28,
     "metadata": {},
     "output_type": "execute_result"
    }
   ],
   "source": [
    "#O operador \"Not\" altera o valor booleano.\n",
    "\n",
    "is_raining = False\n",
    "not is_raining"
   ]
  },
  {
   "cell_type": "code",
   "execution_count": 29,
   "metadata": {},
   "outputs": [],
   "source": [
    "# Valores booleanos atribuídos às variáveis \n",
    "\n",
    "v1 = True\n",
    "v2 = True\n",
    "v3 = False"
   ]
  },
  {
   "cell_type": "code",
   "execution_count": 31,
   "metadata": {},
   "outputs": [
    {
     "name": "stdout",
     "output_type": "stream",
     "text": [
      "False\n"
     ]
    }
   ],
   "source": [
    "print(v1 and v3)"
   ]
  },
  {
   "cell_type": "code",
   "execution_count": 32,
   "metadata": {},
   "outputs": [
    {
     "name": "stdout",
     "output_type": "stream",
     "text": [
      "True\n"
     ]
    }
   ],
   "source": [
    "print(v1 and v2)"
   ]
  },
  {
   "cell_type": "code",
   "execution_count": 33,
   "metadata": {},
   "outputs": [
    {
     "name": "stdout",
     "output_type": "stream",
     "text": [
      "True\n"
     ]
    }
   ],
   "source": [
    "print(v1 or v3)"
   ]
  },
  {
   "cell_type": "code",
   "execution_count": 35,
   "metadata": {},
   "outputs": [
    {
     "name": "stdout",
     "output_type": "stream",
     "text": [
      "A variável v possui valor True\n"
     ]
    }
   ],
   "source": [
    "v = True\n",
    "if v:\n",
    "    print(\"A variável v possui valor True\")"
   ]
  },
  {
   "cell_type": "code",
   "execution_count": 38,
   "metadata": {},
   "outputs": [
    {
     "name": "stdout",
     "output_type": "stream",
     "text": [
      "A variável v possui valor False\n"
     ]
    }
   ],
   "source": [
    "v=False\n",
    "if v:\n",
    "    print(\"A variável v possui valor True\")\n",
    "else:\n",
    "    print(\"A variável v possui valor False\")"
   ]
  },
  {
   "cell_type": "markdown",
   "metadata": {},
   "source": [
    "### 7. Operações de comparação na vida cotidiana ¶\n",
    "Operadores de comparação comparam dois valores e nos dão uma resposta Verdadeira ou Falsa\n",
    "\n",
    "Algumas comparações no mundo real:\n",
    "- Essas duas coisas são iguais?\n",
    "- Essas duas coisas não são iguais?\n",
    "- A é maior que B?\n",
    "- A é maior ou igual a B?\n",
    "- A é menor que B?\n",
    "- A é menor ou igual a B?"
   ]
  },
  {
   "cell_type": "markdown",
   "metadata": {},
   "source": [
    "### Python Comparison Operators compare two values and return a True or False\n",
    "- `==` compara dois valores para ver se eles são o mesmo valor.\n",
    "- `!=` pergunta se os valores em cada lado do operador não são os mesmos.\n",
    "- `<` and `<=` menores que e menor que ou iguais a,respectivamente.\n",
    "- `>` and `>=` maiores que e maior que ou iguais a, respectivamente.\n",
    "\n"
   ]
  },
  {
   "cell_type": "code",
   "execution_count": 39,
   "metadata": {},
   "outputs": [
    {
     "name": "stdout",
     "output_type": "stream",
     "text": [
      "True\n",
      "True\n"
     ]
    }
   ],
   "source": [
    "print(5 == 5)\n",
    "print(-4 + 4 == 0)"
   ]
  },
  {
   "cell_type": "code",
   "execution_count": 40,
   "metadata": {},
   "outputs": [
    {
     "data": {
      "text/plain": [
       "True"
      ]
     },
     "execution_count": 40,
     "metadata": {},
     "output_type": "execute_result"
    }
   ],
   "source": [
    "5 < 10"
   ]
  },
  {
   "cell_type": "code",
   "execution_count": 42,
   "metadata": {},
   "outputs": [
    {
     "data": {
      "text/plain": [
       "False"
      ]
     },
     "execution_count": 42,
     "metadata": {},
     "output_type": "execute_result"
    }
   ],
   "source": [
    "6<=3"
   ]
  },
  {
   "cell_type": "code",
   "execution_count": 44,
   "metadata": {},
   "outputs": [
    {
     "name": "stdout",
     "output_type": "stream",
     "text": [
      "False\n",
      "True\n"
     ]
    }
   ],
   "source": [
    "print(\"Hello\" == \"Goodbye\")\n",
    "print(\"Hello\" != \"Goodbye\") # != means \"not equal to\" "
   ]
  },
  {
   "cell_type": "markdown",
   "metadata": {},
   "source": [
    "# Parte II:\n",
    "1. Listas\n",
    "2. Funções\n",
    "3. Tuplas\n",
    "4. Dicionários ¶\n",
    "\n"
   ]
  },
  {
   "cell_type": "markdown",
   "metadata": {},
   "source": [
    "Com programação e análise, trabalhamos com muitas listas de números.\n",
    "O tipo de dados primário no Python para armazenar listas de números é chamado de list. É como uma matriz em outras linguagens de programação."
   ]
  },
  {
   "cell_type": "markdown",
   "metadata": {},
   "source": [
    "### 1. As listas são listas ordenadas de valores. \n",
    "- Criado com colchetes\n",
    "- As listas podem conter qualquer valor\n",
    "- As listas podem conter listas.\n",
    "- lista como uma coluna de valores em uma planilha (lista unidimensional)\n",
    "- uma lista de listas como uma planilha inteira (lista bidimensional)"
   ]
  },
  {
   "cell_type": "code",
   "execution_count": 1,
   "metadata": {},
   "outputs": [
    {
     "name": "stdout",
     "output_type": "stream",
     "text": [
      "['John', 'Henrique', 'George']\n"
     ]
    }
   ],
   "source": [
    "# As listas são criadas com colchetes. Cada item da lista é separado por vírgula. As listas podem conter qualquer tipo de dados \n",
    "names  =  [ \"John\" ,  \"Henrique\" ,  \"George\" ] \n",
    "print ( names )"
   ]
  },
  {
   "cell_type": "code",
   "execution_count": 2,
   "metadata": {},
   "outputs": [
    {
     "data": {
      "text/plain": [
       "'John'"
      ]
     },
     "execution_count": 2,
     "metadata": {},
     "output_type": "execute_result"
    }
   ],
   "source": [
    "names[0]"
   ]
  },
  {
   "cell_type": "code",
   "execution_count": 3,
   "metadata": {},
   "outputs": [
    {
     "data": {
      "text/plain": [
       "['John', 'Henrique']"
      ]
     },
     "execution_count": 3,
     "metadata": {},
     "output_type": "execute_result"
    }
   ],
   "source": [
    "names[0:2]"
   ]
  },
  {
   "cell_type": "code",
   "execution_count": 4,
   "metadata": {},
   "outputs": [
    {
     "name": "stdout",
     "output_type": "stream",
     "text": [
      "['John', 'Henrique', 'George', 'Paula']\n"
     ]
    }
   ],
   "source": [
    "# As listas possuem funções \n",
    "names.append(\"Paula\") # Don't forget Ringo\n",
    "print(names)"
   ]
  },
  {
   "cell_type": "code",
   "execution_count": 5,
   "metadata": {},
   "outputs": [
    {
     "name": "stdout",
     "output_type": "stream",
     "text": [
      "['Paula', 'George', 'Henrique', 'John']\n"
     ]
    }
   ],
   "source": [
    "names.reverse()\n",
    "print(names)"
   ]
  },
  {
   "cell_type": "code",
   "execution_count": 6,
   "metadata": {},
   "outputs": [],
   "source": [
    "del names[3]"
   ]
  },
  {
   "cell_type": "code",
   "execution_count": 7,
   "metadata": {},
   "outputs": [
    {
     "data": {
      "text/plain": [
       "['Paula', 'George', 'Henrique']"
      ]
     },
     "execution_count": 7,
     "metadata": {},
     "output_type": "execute_result"
    }
   ],
   "source": [
    "names"
   ]
  },
  {
   "cell_type": "code",
   "execution_count": 8,
   "metadata": {},
   "outputs": [
    {
     "data": {
      "text/plain": [
       "'Henrique'"
      ]
     },
     "execution_count": 8,
     "metadata": {},
     "output_type": "execute_result"
    }
   ],
   "source": [
    "names[-1]"
   ]
  },
  {
   "cell_type": "code",
   "execution_count": 9,
   "metadata": {},
   "outputs": [
    {
     "name": "stdout",
     "output_type": "stream",
     "text": [
      "['Paula', 'George', 'Henrique', 'Manu', 'Alexa']\n"
     ]
    }
   ],
   "source": [
    "names.extend(['Manu','Alexa'])\n",
    "print(names)"
   ]
  },
  {
   "cell_type": "code",
   "execution_count": 10,
   "metadata": {},
   "outputs": [],
   "source": [
    "odds = [1, 3, 5, 7, 9, 11, 13, 17, 19, 21]"
   ]
  },
  {
   "cell_type": "code",
   "execution_count": 11,
   "metadata": {},
   "outputs": [
    {
     "data": {
      "text/plain": [
       "[[1, 2], [1, 3, 5, 7, 9, 11, 13, 17, 19, 21]]"
      ]
     },
     "execution_count": 11,
     "metadata": {},
     "output_type": "execute_result"
    }
   ],
   "source": [
    "Two_Numbers = [1,2]\n",
    "All_Numbers = [Two_Numbers, odds]\n",
    "All_Numbers"
   ]
  },
  {
   "cell_type": "code",
   "execution_count": 13,
   "metadata": {},
   "outputs": [
    {
     "data": {
      "text/plain": [
       "2"
      ]
     },
     "execution_count": 13,
     "metadata": {},
     "output_type": "execute_result"
    }
   ],
   "source": [
    "All_Numbers[0][1]"
   ]
  },
  {
   "cell_type": "code",
   "execution_count": 14,
   "metadata": {},
   "outputs": [
    {
     "data": {
      "text/plain": [
       "[21, 19, 17, 13, 11, 9, 7, 5, 3, 1]"
      ]
     },
     "execution_count": 14,
     "metadata": {},
     "output_type": "execute_result"
    }
   ],
   "source": [
    "All_Numbers[1].sort(reverse=True)\n",
    "All_Numbers[1]"
   ]
  },
  {
   "cell_type": "code",
   "execution_count": 24,
   "metadata": {},
   "outputs": [
    {
     "name": "stdout",
     "output_type": "stream",
     "text": [
      "A posição do número 11 é 4\n",
      "O loop está completo.\n"
     ]
    }
   ],
   "source": [
    "# for variable in list:\n",
    "for number,i in zip(odds,range(0,12)):\n",
    "    if number==11:\n",
    "        print(\"A posição do número 11 é\",i)\n",
    "print(\"O loop está completo.\")"
   ]
  },
  {
   "cell_type": "markdown",
   "metadata": {
    "_uuid": "2fa39d1e0b03a084c2a3b409a3f71194d2d40372"
   },
   "source": [
    "### 2. Funções \n",
    "Existem 2 tipos de funções no Python: funções internas e definidas pelo usuário.\n",
    "\n",
    "Algumas funções incorporadas:\n",
    "- type, print, len, sum, abs, range, list, min, max, round, etc...\n",
    "- Para obter uma lista completa das funções de compilação, consulte https://docs.python.org/3/library/functions.html\n"
   ]
  },
  {
   "cell_type": "code",
   "execution_count": 25,
   "metadata": {},
   "outputs": [
    {
     "data": {
      "text/plain": [
       "17"
      ]
     },
     "execution_count": 25,
     "metadata": {},
     "output_type": "execute_result"
    }
   ],
   "source": [
    "numbers = [2, 3, 5, 7]\n",
    "sum(numbers)"
   ]
  },
  {
   "cell_type": "code",
   "execution_count": 26,
   "metadata": {},
   "outputs": [
    {
     "data": {
      "text/plain": [
       "4"
      ]
     },
     "execution_count": 26,
     "metadata": {},
     "output_type": "execute_result"
    }
   ],
   "source": [
    "len(numbers)"
   ]
  },
  {
   "cell_type": "code",
   "execution_count": 2,
   "metadata": {},
   "outputs": [
    {
     "name": "stdout",
     "output_type": "stream",
     "text": [
      "O número de letras na palavra Python é 6\n"
     ]
    }
   ],
   "source": [
    "programming_language = \"Python\"\n",
    "print(\"O número de letras na palavra Python é {}\".format(len(programming_language)))"
   ]
  },
  {
   "cell_type": "code",
   "execution_count": 28,
   "metadata": {},
   "outputs": [
    {
     "data": {
      "text/plain": [
       "6"
      ]
     },
     "execution_count": 28,
     "metadata": {},
     "output_type": "execute_result"
    }
   ],
   "source": [
    "len(programming_language)"
   ]
  },
  {
   "cell_type": "code",
   "execution_count": 32,
   "metadata": {},
   "outputs": [
    {
     "ename": "ValueError",
     "evalue": "too many values to unpack (expected 2)",
     "output_type": "error",
     "traceback": [
      "\u001b[1;31m---------------------------------------------------------------------------\u001b[0m",
      "\u001b[1;31mValueError\u001b[0m                                Traceback (most recent call last)",
      "\u001b[1;32m<ipython-input-32-7618f80ba594>\u001b[0m in \u001b[0;36m<module>\u001b[1;34m\u001b[0m\n\u001b[1;32m----> 1\u001b[1;33m \u001b[0mname\u001b[0m\u001b[1;33m,\u001b[0m \u001b[0mage\u001b[0m \u001b[1;33m=\u001b[0m \u001b[1;34m'Peter,28'\u001b[0m\u001b[1;33m\u001b[0m\u001b[1;33m\u001b[0m\u001b[0m\n\u001b[0m",
      "\u001b[1;31mValueError\u001b[0m: too many values to unpack (expected 2)"
     ]
    }
   ],
   "source": [
    "name, age = 'Peter,28'"
   ]
  },
  {
   "cell_type": "code",
   "execution_count": 33,
   "metadata": {},
   "outputs": [
    {
     "data": {
      "text/plain": [
       "['Peter', '28']"
      ]
     },
     "execution_count": 33,
     "metadata": {},
     "output_type": "execute_result"
    }
   ],
   "source": [
    "'Peter,28'.split(',')"
   ]
  },
  {
   "cell_type": "code",
   "execution_count": 34,
   "metadata": {},
   "outputs": [],
   "source": [
    "name, age = 'Peter,24'.split(',')"
   ]
  },
  {
   "cell_type": "code",
   "execution_count": 35,
   "metadata": {},
   "outputs": [
    {
     "name": "stdout",
     "output_type": "stream",
     "text": [
      "Peter\n",
      "24\n"
     ]
    }
   ],
   "source": [
    "print(name)\n",
    "print(age)"
   ]
  },
  {
   "cell_type": "markdown",
   "metadata": {},
   "source": [
    "### Criando Funções"
   ]
  },
  {
   "cell_type": "code",
   "execution_count": 36,
   "metadata": {},
   "outputs": [
    {
     "name": "stdout",
     "output_type": "stream",
     "text": [
      "Minha primeira função\n"
     ]
    }
   ],
   "source": [
    "def simple():\n",
    "    print (\"Minha primeira função\")\n",
    "simple()"
   ]
  },
  {
   "cell_type": "code",
   "execution_count": 37,
   "metadata": {},
   "outputs": [
    {
     "name": "stdout",
     "output_type": "stream",
     "text": [
      "O número 2 é par\n",
      "True\n",
      "O número 4 é par\n",
      "True\n",
      "O número 2.3 não é par\n",
      "False\n",
      "O número 3 não é par\n",
      "False\n"
     ]
    }
   ],
   "source": [
    "def verifica_par(number):\n",
    "    resto = number % 2 # o operador% retorna o restante da divisão inteira do número à esquerda pelo número à direita \n",
    "    if resto == 0:\n",
    "        print('O número {} é par'.format(number))\n",
    "        return True\n",
    "    else:\n",
    "        print('O número {} não é par'.format(number))\n",
    "        return False\n",
    "        \n",
    "print(verifica_par(2))\n",
    "print(verifica_par(4))\n",
    "print(verifica_par(2.3))\n",
    "print(verifica_par(3))"
   ]
  },
  {
   "cell_type": "code",
   "execution_count": 38,
   "metadata": {},
   "outputs": [],
   "source": [
    "def compare_the_two(x,y):\n",
    "    if x > y:\n",
    "        print (\"Maior\")\n",
    "    elif x < y:\n",
    "        print (\"Menor\")\n",
    "    else:\n",
    "        print (\"Igual\")"
   ]
  },
  {
   "cell_type": "code",
   "execution_count": 39,
   "metadata": {},
   "outputs": [
    {
     "name": "stdout",
     "output_type": "stream",
     "text": [
      "Igual\n"
     ]
    }
   ],
   "source": [
    "compare_the_two(10,10)"
   ]
  },
  {
   "cell_type": "code",
   "execution_count": null,
   "metadata": {},
   "outputs": [],
   "source": []
  },
  {
   "cell_type": "code",
   "execution_count": 40,
   "metadata": {
    "_uuid": "c410084e558eb0215cd63e626d1116329aef9329"
   },
   "outputs": [
    {
     "name": "stdout",
     "output_type": "stream",
     "text": [
      "O número de itens da lista é 4\n"
     ]
    }
   ],
   "source": [
    "# lots of built in functions work on sequences\n",
    "names = [\"John\", \"Juca\", \"Raul\", \"Zezin\"]\n",
    "\n",
    "print(\"O número de itens da lista é\", len(names))\n"
   ]
  },
  {
   "cell_type": "code",
   "execution_count": 41,
   "metadata": {
    "_uuid": "c410084e558eb0215cd63e626d1116329aef9329"
   },
   "outputs": [
    {
     "name": "stdout",
     "output_type": "stream",
     "text": [
      "O maior valor da lista é 7\n",
      "O menor valor da lista é 2\n"
     ]
    }
   ],
   "source": [
    "numbers = [2, 3, 5, 7]\n",
    "print(\"O maior valor da lista é\", max(numbers))\n",
    "print(\"O menor valor da lista é\", min(numbers))"
   ]
  },
  {
   "cell_type": "code",
   "execution_count": 43,
   "metadata": {
    "_uuid": "975e69701f4384666bd841fcacc0b75c8caf0fee"
   },
   "outputs": [
    {
     "data": {
      "text/plain": [
       "4"
      ]
     },
     "execution_count": 43,
     "metadata": {},
     "output_type": "execute_result"
    }
   ],
   "source": [
    "# def keyword to define, name_of_function, parentheses for parameters\n",
    "def square(number):\n",
    "    return number * number # return is the output we hand back to the code that called the function (calling == execute == run)\n",
    "\n",
    "square(2)"
   ]
  },
  {
   "cell_type": "code",
   "execution_count": 48,
   "metadata": {
    "_uuid": "6f3e14214a6d601f28e3a794cab504c67c74c0d8"
   },
   "outputs": [
    {
     "data": {
      "text/plain": [
       "4.25"
      ]
     },
     "execution_count": 48,
     "metadata": {},
     "output_type": "execute_result"
    }
   ],
   "source": [
    "# Como calcular a média de uma lista de números. \n",
    "numbers = [2, 3, 5, 7]\n",
    "total = sum(numbers)\n",
    "total / len(numbers)\n"
   ]
  },
  {
   "cell_type": "markdown",
   "metadata": {},
   "source": [
    "### 3. Tuplas"
   ]
  },
  {
   "cell_type": "code",
   "execution_count": 50,
   "metadata": {},
   "outputs": [
    {
     "data": {
      "text/plain": [
       "('BMW', 'Dodge', 'Ford')"
      ]
     },
     "execution_count": 50,
     "metadata": {},
     "output_type": "execute_result"
    }
   ],
   "source": [
    "Cars = \"BMW\", \"Dodge\", \"Ford\"\n",
    "Cars"
   ]
  },
  {
   "cell_type": "code",
   "execution_count": 51,
   "metadata": {},
   "outputs": [
    {
     "data": {
      "text/plain": [
       "('BMW', 'Dodge', 'Ford')"
      ]
     },
     "execution_count": 51,
     "metadata": {},
     "output_type": "execute_result"
    }
   ],
   "source": [
    "Cars = (\"BMW\", \"Dodge\", \"Ford\")\n",
    "Cars"
   ]
  },
  {
   "cell_type": "code",
   "execution_count": 52,
   "metadata": {},
   "outputs": [
    {
     "data": {
      "text/plain": [
       "'Dodge'"
      ]
     },
     "execution_count": 52,
     "metadata": {},
     "output_type": "execute_result"
    }
   ],
   "source": [
    "Cars[1]"
   ]
  },
  {
   "cell_type": "markdown",
   "metadata": {},
   "source": [
    "### 4. Dicionários"
   ]
  },
  {
   "cell_type": "code",
   "execution_count": 55,
   "metadata": {},
   "outputs": [],
   "source": [
    "prof = {'Nome':'Cosme Damião Cruz','Animal_Estimacao': \"Gato\", 'software': ['Genes', 'Gbol','Gqmol','GPop'], 'Orientados': ['Cristiano','Junin','Jaque','Ivan','Iara','Rafael']}"
   ]
  },
  {
   "cell_type": "code",
   "execution_count": 56,
   "metadata": {},
   "outputs": [
    {
     "data": {
      "text/plain": [
       "{'Nome': 'Cosme Damião Cruz',\n",
       " 'Animal_Estimacao': 'Gato',\n",
       " 'software': ['Genes', 'Gbol', 'Gqmol', 'GPop'],\n",
       " 'Orientados': ['Cristiano', 'Junin', 'Jaque', 'Ivan', 'Iara', 'Rafael']}"
      ]
     },
     "execution_count": 56,
     "metadata": {},
     "output_type": "execute_result"
    }
   ],
   "source": [
    "prof"
   ]
  },
  {
   "cell_type": "code",
   "execution_count": 57,
   "metadata": {},
   "outputs": [
    {
     "data": {
      "text/plain": [
       "'Cosme Damião Cruz'"
      ]
     },
     "execution_count": 57,
     "metadata": {},
     "output_type": "execute_result"
    }
   ],
   "source": [
    "prof['Nome']"
   ]
  },
  {
   "cell_type": "code",
   "execution_count": 58,
   "metadata": {},
   "outputs": [
    {
     "data": {
      "text/plain": [
       "['Cristiano', 'Junin', 'Jaque', 'Ivan', 'Iara', 'Rafael']"
      ]
     },
     "execution_count": 58,
     "metadata": {},
     "output_type": "execute_result"
    }
   ],
   "source": [
    "prof['Orientados']"
   ]
  },
  {
   "cell_type": "code",
   "execution_count": 59,
   "metadata": {},
   "outputs": [],
   "source": [
    "prof['Aposentado'] = 'Sim'"
   ]
  },
  {
   "cell_type": "code",
   "execution_count": 60,
   "metadata": {},
   "outputs": [
    {
     "data": {
      "text/plain": [
       "'Sim'"
      ]
     },
     "execution_count": 60,
     "metadata": {},
     "output_type": "execute_result"
    }
   ],
   "source": [
    "prof['Aposentado']"
   ]
  },
  {
   "cell_type": "code",
   "execution_count": 61,
   "metadata": {},
   "outputs": [
    {
     "data": {
      "text/plain": [
       "{'Nome': 'Cosme Damião Cruz',\n",
       " 'Animal_Estimacao': 'Gato',\n",
       " 'software': ['Genes', 'Gbol', 'Gqmol', 'GPop'],\n",
       " 'Orientados': ['Cristiano', 'Junin', 'Jaque', 'Ivan', 'Iara', 'Rafael'],\n",
       " 'Aposentado': 'Sim'}"
      ]
     },
     "execution_count": 61,
     "metadata": {},
     "output_type": "execute_result"
    }
   ],
   "source": [
    "prof"
   ]
  },
  {
   "cell_type": "markdown",
   "metadata": {},
   "source": [
    "# Parte III: List comprehensions\n",
    "A (List comprehensions) compreensão de lista é uma maneira pitônica de expressar um 'loop for' que se anexa a uma lista em uma única linha de código."
   ]
  },
  {
   "cell_type": "code",
   "execution_count": 64,
   "metadata": {},
   "outputs": [
    {
     "data": {
      "text/plain": [
       "[0, 2, 4, 6, 8]"
      ]
     },
     "execution_count": 64,
     "metadata": {},
     "output_type": "execute_result"
    }
   ],
   "source": [
    "# Então, como é a compreensão de uma lista? Vamos escrever um para criar uma lista de números pares entre 0 e 9:\n",
    "\n",
    "[i for i in range(10) if i%2 == 0]"
   ]
  },
  {
   "cell_type": "markdown",
   "metadata": {},
   "source": [
    "Isso foi fácil de ler e bastante intuitivo de entender. Sim?\n",
    "\n",
    "E abaixo está o equivalente do loop for para a mesma lógica:"
   ]
  },
  {
   "cell_type": "code",
   "execution_count": 65,
   "metadata": {},
   "outputs": [],
   "source": [
    "result = []\n",
    "for i in range(10):\n",
    "    if i%2 == 0:\n",
    "        result.append(i)"
   ]
  },
  {
   "cell_type": "code",
   "execution_count": 66,
   "metadata": {},
   "outputs": [
    {
     "data": {
      "text/plain": [
       "[0, 2, 4, 6, 8]"
      ]
     },
     "execution_count": 66,
     "metadata": {},
     "output_type": "execute_result"
    }
   ],
   "source": [
    "result"
   ]
  },
  {
   "cell_type": "markdown",
   "metadata": {},
   "source": [
    "### Exemplo Tipo 1: loop for simples\n",
    "\n",
    "#### Declaração do problema: Coloque cada número de mylist ao quadrado e armazene o resultado como uma nova lista."
   ]
  },
  {
   "cell_type": "code",
   "execution_count": 67,
   "metadata": {},
   "outputs": [
    {
     "name": "stdout",
     "output_type": "stream",
     "text": [
      "[1, 4, 9, 16, 25]\n"
     ]
    }
   ],
   "source": [
    "# O 'For Loop' itera sobre cada número, coloca o número ao quadrado e anexa a uma lista.\n",
    "\n",
    "# Para a versão em loop:\n",
    "\n",
    "mylist = [1,2,3,4,5]\n",
    "\n",
    "# For Loop Version\n",
    "result = []\n",
    "for i in mylist:\n",
    "    result.append(i**2)\n",
    "\n",
    "print(result)\n",
    "#> [1, 4, 9, 16, 25]"
   ]
  },
  {
   "cell_type": "markdown",
   "metadata": {},
   "source": [
    "Como converter isso para uma compreensão de lista? Pegue a saída na mesma linha da condição for e coloque em um par de [ .. ]."
   ]
  },
  {
   "cell_type": "code",
   "execution_count": 68,
   "metadata": {},
   "outputs": [
    {
     "name": "stdout",
     "output_type": "stream",
     "text": [
      "[1, 4, 9, 16, 25]\n"
     ]
    }
   ],
   "source": [
    "result = [i**2 for i in [1,2,3,4,5]]\n",
    "print(result)"
   ]
  },
  {
   "cell_type": "markdown",
   "metadata": {},
   "source": [
    "### Exemplo Tipo 2: loop for com filtragem condicional\n",
    "#### E se você tiver uma condição if no loop for? Digamos que você queira quadrado apenas os números pares:\n",
    "\n",
    "#### Declaração do problema : Coloque apenas os números pares de myliste ao quadrado,  armazene o resultado em uma lista.\n"
   ]
  },
  {
   "cell_type": "code",
   "execution_count": 69,
   "metadata": {},
   "outputs": [
    {
     "name": "stdout",
     "output_type": "stream",
     "text": [
      "[4, 16]\n"
     ]
    }
   ],
   "source": [
    "# Para a versão em loop:\n",
    "\n",
    "mylist = [1,2,3,4,5]\n",
    "\n",
    "# For Loop Version\n",
    "result = []\n",
    "for i in mylist:\n",
    "    if i%2==0:\n",
    "        result.append(i**2)\n",
    "\n",
    "print(result)"
   ]
  },
  {
   "cell_type": "markdown",
   "metadata": {},
   "source": [
    "Na compreensão da lista , adicionamos a 'condição if' após o loop for, se você deseja filtrar os itens."
   ]
  },
  {
   "cell_type": "code",
   "execution_count": 70,
   "metadata": {},
   "outputs": [
    {
     "name": "stdout",
     "output_type": "stream",
     "text": [
      "[4, 16]\n"
     ]
    }
   ],
   "source": [
    "# List Comprehension Version\n",
    "result = [i**2 for i in [1,2,3,4,5] if i%2==0]\n",
    "print(result)"
   ]
  },
  {
   "cell_type": "markdown",
   "metadata": {},
   "source": [
    "### Exemplo Tipo 3: loop for com a condição 'if' e 'else'\n",
    "\n",
    "#### Vamos ver um caso em que você tem uma condição 'if-else' no loop for.\n",
    "\n",
    "#### Declaração do Problema: Em mylist, eleve o número ao quadrado  se for par; caso contrário, eleve ao cubo.\n"
   ]
  },
  {
   "cell_type": "code",
   "execution_count": 71,
   "metadata": {},
   "outputs": [
    {
     "name": "stdout",
     "output_type": "stream",
     "text": [
      "[1, 4, 27, 16, 125]\n"
     ]
    }
   ],
   "source": [
    "# Para a versão em loop:\n",
    "\n",
    "mylist = [1,2,3,4,5]\n",
    "# For Loop Version\n",
    "result = []\n",
    "for i in mylist:\n",
    "    if i%2==0:\n",
    "        result.append(i**2)\n",
    "    else:\n",
    "        result.append(i**3)\n",
    "\n",
    "print(result)"
   ]
  },
  {
   "cell_type": "markdown",
   "metadata": {},
   "source": [
    "No exemplo anterior, queríamos filtrar os números pares. Mas neste caso, não há filtragem. Então, coloque o if e else antes do loop for."
   ]
  },
  {
   "cell_type": "code",
   "execution_count": 75,
   "metadata": {},
   "outputs": [
    {
     "data": {
      "text/plain": [
       "[1, 4, 27, 16, 125]"
      ]
     },
     "execution_count": 75,
     "metadata": {},
     "output_type": "execute_result"
    }
   ],
   "source": [
    "[i**2 if i%2==0 else i**3 for i in mylist]"
   ]
  },
  {
   "cell_type": "markdown",
   "metadata": {},
   "source": [
    "### Exemplo Tipo 4: Vários for-loops\n",
    "#### Agora vamos ver um exemplo um pouco complicado que envolve dois For-Loops.\n",
    "\n",
    "#### Declaração do problema: Achate a matriz mat (uma lista de listas) mantendo apenas os números pares."
   ]
  },
  {
   "cell_type": "code",
   "execution_count": 76,
   "metadata": {},
   "outputs": [
    {
     "name": "stdout",
     "output_type": "stream",
     "text": [
      "[2, 4, 6, 8, 10, 12, 14, 16]\n"
     ]
    }
   ],
   "source": [
    "# Para a versão em loop:\n",
    "\n",
    "# For Loop Version\n",
    "mat = [[1,2,3,4], [5,6,7,8], [9,10,11,12], [13,14,15,16]]\n",
    "result = []\n",
    "for row in mat:\n",
    "    for i in row:\n",
    "        if i%2 == 0:\n",
    "            result.append(i)\n",
    "\n",
    "print(result)"
   ]
  },
  {
   "cell_type": "code",
   "execution_count": 77,
   "metadata": {},
   "outputs": [
    {
     "name": "stdout",
     "output_type": "stream",
     "text": [
      "numero de linhas  4\n",
      "number de colunas  4\n"
     ]
    }
   ],
   "source": [
    "print(\"numero de linhas \", len(mat))\n",
    "print(\"number de colunas \", len(mat[0]))"
   ]
  },
  {
   "cell_type": "markdown",
   "metadata": {},
   "source": [
    "Você pode imaginar como seria a versão equivalente à compreensão da lista? É quase o mesmo que escrever as linhas do loop for, uma após a outra."
   ]
  },
  {
   "cell_type": "code",
   "execution_count": 78,
   "metadata": {},
   "outputs": [
    {
     "data": {
      "text/plain": [
       "[2, 4, 6, 8, 10, 12, 14, 16]"
      ]
     },
     "execution_count": 78,
     "metadata": {},
     "output_type": "execute_result"
    }
   ],
   "source": [
    "# List Comprehension version\n",
    "[i for row in mat for i in row if i%2==0]"
   ]
  },
  {
   "cell_type": "markdown",
   "metadata": {},
   "source": [
    "### Exemplo Tipo 5: Saídas emparelhadas\n",
    "#### Declaração do problema: Para cada número em list_b, insira o número e sua posição mylist como uma lista de tuplas."
   ]
  },
  {
   "cell_type": "code",
   "execution_count": 79,
   "metadata": {},
   "outputs": [
    {
     "name": "stdout",
     "output_type": "stream",
     "text": [
      "[(6, 2), (4, 8), (6, 2), (1, 3), (2, 7), (2, 7)]\n"
     ]
    }
   ],
   "source": [
    "# Versão For-Loop:\n",
    "\n",
    "mylist = [9, 3, 6, 1, 5, 0, 8, 2, 4, 7]\n",
    "list_b = [6, 4, 6, 1, 2, 2]\n",
    "\n",
    "result = []\n",
    "for i in list_b:\n",
    "    result.append((i, mylist.index(i)))\n",
    "\n",
    "print(result)"
   ]
  },
  {
   "cell_type": "markdown",
   "metadata": {},
   "source": [
    "Nesse caso, a saída possui 2 itens em vez de um. Então, emparelhe os dois como uma tupla e coloque-o antes da instrução for.\n"
   ]
  },
  {
   "cell_type": "code",
   "execution_count": 80,
   "metadata": {},
   "outputs": [
    {
     "data": {
      "text/plain": [
       "[(6, 2), (4, 8), (6, 2), (1, 3), (2, 7), (2, 7)]"
      ]
     },
     "execution_count": 80,
     "metadata": {},
     "output_type": "execute_result"
    }
   ],
   "source": [
    "\n",
    "[(i, mylist.index(i)) for i in list_b]"
   ]
  },
  {
   "cell_type": "markdown",
   "metadata": {},
   "source": [
    "#### 3. Exercícios (aumento do nível de dificuldade)\n",
    "\n",
    "Questão 1. Dada uma lista 1D, torne negativo todos os elementos que estão entre 3 e 8, usando a compreensão da lista.\n"
   ]
  },
  {
   "cell_type": "code",
   "execution_count": null,
   "metadata": {},
   "outputs": [],
   "source": [
    "# Entrada\n",
    "mylist = [1, 2, 3, 4, 5, 6, 7, 8, 9, 10]\n",
    "\n",
    "# Saída desejada\n",
    "[1, 2, -3, -4, -5, -6, -7, -8, 9, 10]"
   ]
  },
  {
   "cell_type": "markdown",
   "metadata": {},
   "source": [
    "### Usando while"
   ]
  },
  {
   "cell_type": "code",
   "execution_count": 84,
   "metadata": {},
   "outputs": [
    {
     "name": "stdout",
     "output_type": "stream",
     "text": [
      "0 2 4 6 8 10 12 14 16 18 20 "
     ]
    }
   ],
   "source": [
    "x = 0\n",
    "while x <=20:\n",
    "    print (x, end=\" \")\n",
    "    x = x + 2"
   ]
  },
  {
   "cell_type": "code",
   "execution_count": 85,
   "metadata": {},
   "outputs": [
    {
     "name": "stdout",
     "output_type": "stream",
     "text": [
      "0 2 4 6 8 10 12 14 16 18 20 "
     ]
    }
   ],
   "source": [
    "x = 0\n",
    "while x <= 20:\n",
    "    print (x, end=\" \")\n",
    "    x += 2"
   ]
  },
  {
   "cell_type": "code",
   "execution_count": 86,
   "metadata": {},
   "outputs": [],
   "source": [
    "prices = {\n",
    "    \"macarrão\" : 4,\n",
    "    \"lasanha\"  : 5,\n",
    "    \"hamburger\" : 2\n",
    "   }\n",
    "quantity = {\n",
    "    \"macarrão\" : 6,\n",
    "    \"lasanha\"  : 10,\n",
    "    \"hamburger\" : 0\n",
    "    }\n",
    "\n"
   ]
  },
  {
   "cell_type": "code",
   "execution_count": 87,
   "metadata": {},
   "outputs": [],
   "source": [
    "money_spent = 0\n",
    "\n",
    "for i in prices:\n",
    "    money_spent = money_spent + (prices[i]*quantity[i])\n"
   ]
  },
  {
   "cell_type": "code",
   "execution_count": 88,
   "metadata": {},
   "outputs": [
    {
     "data": {
      "text/plain": [
       "74"
      ]
     },
     "execution_count": 88,
     "metadata": {},
     "output_type": "execute_result"
    }
   ],
   "source": [
    "money_spent"
   ]
  },
  {
   "cell_type": "code",
   "execution_count": null,
   "metadata": {},
   "outputs": [],
   "source": []
  }
 ],
 "metadata": {
  "kernelspec": {
   "display_name": "Python 3",
   "language": "python",
   "name": "python3"
  },
  "language_info": {
   "codemirror_mode": {
    "name": "ipython",
    "version": 3
   },
   "file_extension": ".py",
   "mimetype": "text/x-python",
   "name": "python",
   "nbconvert_exporter": "python",
   "pygments_lexer": "ipython3",
   "version": "3.7.6"
  }
 },
 "nbformat": 4,
 "nbformat_minor": 1
}
